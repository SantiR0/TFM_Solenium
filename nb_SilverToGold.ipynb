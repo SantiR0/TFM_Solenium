{
 "cells": [
  {
   "cell_type": "code",
   "execution_count": 0,
   "metadata": {
    "application/vnd.databricks.v1+cell": {
     "cellMetadata": {
      "byteLimit": 2048000,
      "rowLimit": 10000
     },
     "inputWidgets": {},
     "nuid": "a23a5e6c-6e62-43a6-876d-3001c522e29a",
     "showTitle": false,
     "title": ""
    }
   },
   "outputs": [],
   "source": [
    "dbutils.widgets.text(\"start_date\", \"\")\n",
    "dbutils.widgets.text(\"ind_range\", \"\")\n",
    "ind_range = dbutils.widgets.get(\"ind_range\")"
   ]
  },
  {
   "cell_type": "code",
   "execution_count": 0,
   "metadata": {
    "application/vnd.databricks.v1+cell": {
     "cellMetadata": {
      "byteLimit": 2048000,
      "rowLimit": 10000
     },
     "inputWidgets": {},
     "nuid": "7191d853-9a3b-4806-ac09-0db34a850334",
     "showTitle": false,
     "title": ""
    }
   },
   "outputs": [],
   "source": [
    "%run \"./nb_utils\""
   ]
  },
  {
   "cell_type": "code",
   "execution_count": 0,
   "metadata": {
    "application/vnd.databricks.v1+cell": {
     "cellMetadata": {
      "byteLimit": 2048000,
      "rowLimit": 10000
     },
     "inputWidgets": {},
     "nuid": "213e5dcf-8314-4b86-8ed4-6ffd4726faeb",
     "showTitle": false,
     "title": ""
    }
   },
   "outputs": [
    {
     "output_type": "stream",
     "name": "stderr",
     "output_type": "stream",
     "text": [
      "2024-09-15 00:01:40,148 - root - INFO - Table to be created in: abfss://gold@datasparkcourse.dfs.core.windows.net/quoia_360 \n \n2024-09-15 00:01:40,151 - root - INFO - Range to execute:  between 2024-06-01 and 2024-06-30 \n \n2024-09-15 00:01:40,152 - root - INFO - Executing queries \n \n2024-09-15 00:01:44,580 - root - INFO - Data to be written, count: 20852\n2024-09-15 00:01:56,158 - root - INFO - Data written to gold - delta: abfss://gold@datasparkcourse.dfs.core.windows.net/quoia_360 \n \n"
     ]
    }
   ],
   "source": [
    "ingestion_config = MedallionConfig(\"measurement_electrical\")\n",
    "ingestion_config.set_logger()\n",
    "\n",
    "gold_path_file = os.path.join(ingestion_config.gold_path, 'quoia_360')\n",
    "logging.info(f\"Table to be created in: {gold_path_file} \\n \")\n",
    "\n",
    "if ind_range:\n",
    "    start_date = pd.to_datetime(dbutils.widgets.get(\"start_date\")).date()  \n",
    "else:\n",
    "    start_date = pd.to_datetime(\"today\").date()  # Get today's date without time\n",
    "\n",
    "initial_day_of_month = start_date.replace(day=1)\n",
    "last_day_of_month = (initial_day_of_month + pd.offsets.MonthEnd(0)).date()\n",
    "\n",
    "logging.info(f\"Range to execute:  between {initial_day_of_month} and {last_day_of_month} \\n \")\n",
    "\n",
    "state_view = f\"\"\"\n",
    "CREATE OR REPLACE TEMP VIEW state_t0 AS\n",
    "WITH temp AS (\n",
    "  SELECT\n",
    "    CASE\n",
    "      WHEN state LIKE 'Grid-connected%' THEN 'Grid-connected'\n",
    "      WHEN state LIKE 'Standby%' THEN 'Standby'\n",
    "      WHEN state LIKE 'Shutdown%' THEN 'Shutdown'\n",
    "      ELSE 'Standby'\n",
    "    END AS state,\n",
    "    date,\n",
    "    EXTRACT(HOUR FROM time) AS hour,\n",
    "    node_id\n",
    "  FROM hive_metastore.quoia.measurement_state\n",
    "  where date BETWEEN '{initial_day_of_month}' and '{last_day_of_month}'\n",
    ")\n",
    "SELECT\n",
    "  date,\n",
    "  hour,\n",
    "  node_id,\n",
    "  MAX(CASE WHEN state = 'Grid-connected' THEN 1 ELSE 0 END) AS Ind_Grid_Connected,\n",
    "  MAX(CASE WHEN state = 'Standby' THEN 1 ELSE 0 END)        AS Ind_Standby,\n",
    "  MAX(CASE WHEN state = 'Shutdown' THEN 1 ELSE 0 END)       AS Ind_Shutdown\n",
    "FROM temp\n",
    "GROUP BY date, hour, node_id; \"\"\"\n",
    "\n",
    "temperature_view = f\"\"\"\n",
    "CREATE OR REPLACE TEMP VIEW temperature_t1 AS\n",
    "SELECT \n",
    "  date,\n",
    "  EXTRACT(HOUR FROM time) AS hour,\n",
    "  node_id,\n",
    "  AVG(temperature) AS temperature\n",
    "FROM hive_metastore.quoia.measurement_temperature\n",
    "where date  BETWEEN '{initial_day_of_month}' and '{last_day_of_month}'\n",
    "GROUP BY date, hour, node_id;\"\"\"\n",
    "\n",
    "node_view = f\"\"\"\n",
    "CREATE OR REPLACE TEMP VIEW node_t2 AS\n",
    "SELECT \n",
    "  n.id AS node_id,\n",
    "  n.meter_id,\n",
    "  n.category,\n",
    "  n.archived,\n",
    "  me.installation_type\n",
    "FROM hive_metastore.quoia.node n\n",
    "INNER JOIN  hive_metastore.quoia.meter_electric me \n",
    "  ON me.meter_id = n.meter_id;\"\"\"\n",
    "\n",
    "electrical_view = f\"\"\"\n",
    "CREATE OR REPLACE TEMP VIEW electrical_t3 AS\n",
    "SELECT \n",
    "  node_id,\n",
    "\tdate,\n",
    "\textract(hour from time) as hour,\n",
    "\tsum(a.vp1) as vp1,\n",
    "\tsum(a.vp2) as vp2,\n",
    "\tsum(a.vp3) as vp3,\n",
    "\tsum(a.cp1) as cp1,\n",
    "\tsum(a.cp2) as cp2,\n",
    "\tsum(a.cp3) as cp3,\n",
    "\tsum(a.app1) as app1,\n",
    "\tsum(a.app2) as app2,\n",
    "\tsum(a.app3) as app3,\n",
    "\tsum(a.rpp1) as rpp1,\n",
    "\tsum(a.rpp2) as rpp2,\n",
    "\tsum(a.rpp3) as rpp3,\n",
    "\tsum(a.pfp1) as pfp1,\n",
    "\tsum(a.pfp2) as pfp2,\n",
    "\tsum(a.pfp3) as pfp3\n",
    "from hive_metastore.quoia.measurement_electrical a\n",
    "where date  BETWEEN '{initial_day_of_month}' and '{last_day_of_month}'\n",
    "group by node_id, date, hour;\"\"\"\n",
    "\n",
    "energy_view = f\"\"\"\n",
    "CREATE OR REPLACE TEMP VIEW electrical_energy_t4 AS\n",
    "SELECT \n",
    "  node_id,\n",
    "\tdate,\n",
    "\textract(hour from time) as hour,\n",
    "\tSUM(b.iaepd1) AS iaepd1,\n",
    "\tSUM(b.iaepd2) AS iaepd2,\n",
    "\tSUM(b.iaepd3) AS iaepd3,\n",
    "\tSUM(b.eaepd1) AS eaepd1,\n",
    "\tSUM(b.eaepd2) AS eaepd2,\n",
    "\tSUM(b.eaepd3) AS eaepd3,\n",
    "\tSUM(b.irepd1) AS irepd1,\n",
    "\tSUM(b.irepd2) AS irepd2,\n",
    "\tSUM(b.irepd3) AS irepd3,\n",
    "\tSUM(b.erepd1) AS erepd1,\n",
    "\tSUM(b.erepd2) AS erepd2,\n",
    "\tSUM(b.erepd3) AS erepd3\n",
    "from hive_metastore.quoia.measurement_electrical_energy b\n",
    "where date  BETWEEN '{initial_day_of_month}' and '{last_day_of_month}'\n",
    "group by node_id, date, hour;\"\"\"\n",
    "\n",
    "logging.info(f\"Executing queries \\n \")\n",
    "spark.sql(state_view)\n",
    "spark.sql(temperature_view)\n",
    "spark.sql(electrical_view)\n",
    "spark.sql(energy_view)\n",
    "spark.sql(node_view)\n",
    "\n",
    "df = spark.sql(\"\"\"\n",
    "  SELECT\n",
    "    a.node_id,\n",
    "    e.category,\n",
    "    e.archived,\n",
    "    e.installation_type,\n",
    "    a.date,\n",
    "    a.hour,\n",
    "    COALESCE(a.vp1, 0) AS vp1,\n",
    "    COALESCE(a.vp2, 0) AS vp2,\n",
    "    COALESCE(a.vp3, 0) AS vp3,\n",
    "    COALESCE(a.cp1, 0) AS cp1,\n",
    "    COALESCE(a.cp2, 0) AS cp2,\n",
    "    COALESCE(a.cp3, 0) AS cp3,\n",
    "    COALESCE(a.app1, 0) AS app1,\n",
    "    COALESCE(a.app2, 0) AS app2,\n",
    "    COALESCE(a.app3, 0) AS app3,\n",
    "    COALESCE(a.rpp1, 0) AS rpp1,\n",
    "    COALESCE(a.rpp2, 0) AS rpp2,\n",
    "    COALESCE(a.rpp3, 0) AS rpp3,\n",
    "    COALESCE(a.pfp1, 0) AS pfp1,\n",
    "    COALESCE(a.pfp2, 0) AS pfp2,\n",
    "    COALESCE(a.pfp3, 0) AS pfp3,\n",
    "    COALESCE(b.iaepd1, 0) AS iaepd1,\n",
    "    COALESCE(b.iaepd2, 0) AS iaepd2,\n",
    "    COALESCE(b.iaepd3, 0) AS iaepd3,\n",
    "    COALESCE(b.eaepd1, 0) AS eaepd1,\n",
    "    COALESCE(b.eaepd2, 0) AS eaepd2,\n",
    "    COALESCE(b.eaepd3, 0) AS eaepd3,\n",
    "    COALESCE(b.irepd1, 0) AS irepd1,\n",
    "    COALESCE(b.irepd2, 0) AS irepd2,\n",
    "    COALESCE(b.irepd3, 0) AS irepd3,\n",
    "    COALESCE(b.erepd1, 0) AS erepd1,\n",
    "    COALESCE(b.erepd2, 0) AS erepd2,\n",
    "    COALESCE(b.erepd3, 0) AS erepd3,\n",
    "    COALESCE(c.Ind_Grid_Connected, -1)  AS Ind_Grid_Connected,\n",
    "    COALESCE(c.Ind_Standby, -1)         AS Ind_Standby,\n",
    "    COALESCE(c.Ind_Shutdown, -1)        AS Ind_Shutdown,\n",
    "    COALESCE(d.temperature, -1)         AS Temperature\n",
    "  FROM electrical_t3 a\n",
    "  INNER JOIN electrical_energy_t4  b\n",
    "    ON a.node_id = b.node_id AND a.date = b.date AND a.hour = b.hour\n",
    "  LEFT JOIN state_t0 c\n",
    "    ON a.node_id = c.node_id AND a.date = c.date AND a.hour = c.hour\n",
    "  LEFT JOIN temperature_t1 d\n",
    "    ON a.node_id = d.node_id AND a.date = d.date AND a.hour = d.hour\n",
    "  LEFT JOIN node_t2 e\n",
    "    ON a.node_id = e.node_id\n",
    "\"\"\")\n",
    "\n",
    "logging.info(f\"Data to be written, count: {df.count()}\")\n",
    "\n",
    "df.write.format(ingestion_config.gold_format)\\\n",
    "    .partitionBy(\"date\")\\\n",
    "    .mode(\"overwrite\") \\\n",
    "    .option(\"partitionOverwriteMode\", \"dynamic\")\\\n",
    "    .save(gold_path_file) \n",
    "\n",
    "logging.info(f\"Data written to gold - delta: {gold_path_file} \\n \")\n",
    "\n",
    "ingestion_config.create_schema_table(gold_path_file,\"quoia_360\")\n"
   ]
  }
 ],
 "metadata": {
  "application/vnd.databricks.v1+notebook": {
   "dashboards": [],
   "environmentMetadata": null,
   "language": "python",
   "notebookMetadata": {
    "mostRecentlyExecutedCommandWithImplicitDF": {
     "commandId": 292478654693230,
     "dataframes": [
      "_sqldf"
     ]
    },
    "pythonIndentUnit": 4
   },
   "notebookName": "nb_SilverToGold",
   "widgets": {
    "ind_range": {
     "currentValue": "y",
     "nuid": "6c2cb967-4544-4f10-9413-36d39d19bc58",
     "typedWidgetInfo": {
      "autoCreated": false,
      "defaultValue": "",
      "label": null,
      "name": "ind_range",
      "options": {
       "widgetDisplayType": "Text",
       "validationRegex": null
      },
      "parameterDataType": "String"
     },
     "widgetInfo": {
      "widgetType": "text",
      "defaultValue": "",
      "label": null,
      "name": "ind_range",
      "options": {
       "widgetType": "text",
       "autoCreated": null,
       "validationRegex": null
      }
     }
    },
    "start_date": {
     "currentValue": "2024-06-10",
     "nuid": "59b715d9-c651-463c-9d6b-6a24af25d5cf",
     "typedWidgetInfo": {
      "autoCreated": false,
      "defaultValue": "",
      "label": null,
      "name": "start_date",
      "options": {
       "widgetDisplayType": "Text",
       "validationRegex": null
      },
      "parameterDataType": "String"
     },
     "widgetInfo": {
      "widgetType": "text",
      "defaultValue": "",
      "label": null,
      "name": "start_date",
      "options": {
       "widgetType": "text",
       "autoCreated": null,
       "validationRegex": null
      }
     }
    }
   }
  }
 },
 "nbformat": 4,
 "nbformat_minor": 0
}
