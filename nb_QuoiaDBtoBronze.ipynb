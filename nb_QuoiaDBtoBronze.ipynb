{
 "cells": [
  {
   "cell_type": "code",
   "execution_count": 0,
   "metadata": {
    "application/vnd.databricks.v1+cell": {
     "cellMetadata": {
      "byteLimit": 2048000,
      "rowLimit": 10000
     },
     "inputWidgets": {},
     "nuid": "96019b0c-0ca8-499e-b7a2-22cc6870ad4e",
     "showTitle": false,
     "title": ""
    }
   },
   "outputs": [],
   "source": [
    "%run \"./nb_utils\""
   ]
  },
  {
   "cell_type": "code",
   "execution_count": 0,
   "metadata": {
    "application/vnd.databricks.v1+cell": {
     "cellMetadata": {
      "byteLimit": 2048000,
      "rowLimit": 10000
     },
     "inputWidgets": {},
     "nuid": "81371411-83a8-46c0-8cb7-a8375cb010e3",
     "showTitle": false,
     "title": ""
    }
   },
   "outputs": [],
   "source": [
    "dbutils.widgets.text(\"flag_range\", \"\")\n",
    "dbutils.widgets.text(\"start_date\", \"\")\n",
    "dbutils.widgets.text(\"end_date\", \"\")\n",
    "dbutils.widgets.text(\"ingest\", \"\")\n",
    "\n",
    "flag_range  = dbutils.widgets.get(\"flag_range\")\n",
    "start_date = dbutils.widgets.get(\"start_date\")\n",
    "end_date   = dbutils.widgets.get(\"end_date\")\n",
    "ingest     = dbutils.widgets.get(\"ingest\")"
   ]
  },
  {
   "cell_type": "code",
   "execution_count": 0,
   "metadata": {
    "application/vnd.databricks.v1+cell": {
     "cellMetadata": {},
     "inputWidgets": {},
     "nuid": "d7ebb8a0-54d0-4a8b-81c4-c0d34aaa1097",
     "showTitle": false,
     "title": ""
    }
   },
   "outputs": [],
   "source": [
    "#Ingestion:\n",
    "ingestion_config = MedallionConfig(ingest)\n",
    "ingestion_config.set_logger()\n",
    "\n",
    "ingestion = DbIngestionToBronze(ingestion_config, start_date, end_date, flag_range)\n",
    "\n",
    "sql_statement = ingestion.generate_sql_statement()\n",
    "logging.info(f\"SQL Statement to execute: \\n  {sql_statement}\\n \")\n",
    "\n",
    "logging.info(f\"Loading data from source: {ingestion_config.db}.{ingestion_config.table} \\n \")\n",
    "df = ingestion.load_data(sql_statement)\n",
    "logging.info(f\"Data loaded, count: {df.count()}\")\n",
    "\n",
    "ingestion.write_data(df)\n",
    "logging.info(f\"Data written to bronze: {ingestion_config.bronze_path_file}\")\n",
    "\n",
    "ingestion.update_calendar()\n",
    "logging.info(f\"Calendar updated to: {ingestion_config.calendar}\")"
   ]
  }
 ],
 "metadata": {
  "application/vnd.databricks.v1+notebook": {
   "dashboards": [],
   "environmentMetadata": null,
   "language": "python",
   "notebookMetadata": {
    "pythonIndentUnit": 4
   },
   "notebookName": "nb_QuoiaDBtoBronze",
   "widgets": {
    "end_date": {
     "currentValue": "",
     "nuid": "b86586a9-e710-4455-bf8d-16112314e800",
     "typedWidgetInfo": {
      "autoCreated": false,
      "defaultValue": "",
      "label": null,
      "name": "end_date",
      "options": {
       "widgetDisplayType": "Text",
       "validationRegex": null
      },
      "parameterDataType": "String"
     },
     "widgetInfo": {
      "widgetType": "text",
      "defaultValue": "",
      "label": null,
      "name": "end_date",
      "options": {
       "widgetType": "text",
       "autoCreated": null,
       "validationRegex": null
      }
     }
    },
    "flag_range": {
     "currentValue": "",
     "nuid": "ce52f2f0-0ddd-47df-9a56-ec3ab34792c0",
     "typedWidgetInfo": {
      "autoCreated": false,
      "defaultValue": "",
      "label": null,
      "name": "flag_range",
      "options": {
       "widgetDisplayType": "Text",
       "validationRegex": null
      },
      "parameterDataType": "String"
     },
     "widgetInfo": {
      "widgetType": "text",
      "defaultValue": "",
      "label": null,
      "name": "flag_range",
      "options": {
       "widgetType": "text",
       "autoCreated": null,
       "validationRegex": null
      }
     }
    },
    "ingest": {
     "currentValue": "node",
     "nuid": "8b385e67-2037-48a2-bde5-8a60768358b1",
     "typedWidgetInfo": {
      "autoCreated": false,
      "defaultValue": "",
      "label": null,
      "name": "ingest",
      "options": {
       "widgetDisplayType": "Text",
       "validationRegex": null
      },
      "parameterDataType": "String"
     },
     "widgetInfo": {
      "widgetType": "text",
      "defaultValue": "",
      "label": null,
      "name": "ingest",
      "options": {
       "widgetType": "text",
       "autoCreated": null,
       "validationRegex": null
      }
     }
    },
    "start_date": {
     "currentValue": "",
     "nuid": "0dda030a-fae7-4aac-87bb-cacab9e72b29",
     "typedWidgetInfo": {
      "autoCreated": false,
      "defaultValue": "",
      "label": null,
      "name": "start_date",
      "options": {
       "widgetDisplayType": "Text",
       "validationRegex": null
      },
      "parameterDataType": "String"
     },
     "widgetInfo": {
      "widgetType": "text",
      "defaultValue": "",
      "label": null,
      "name": "start_date",
      "options": {
       "widgetType": "text",
       "autoCreated": null,
       "validationRegex": null
      }
     }
    }
   }
  }
 },
 "nbformat": 4,
 "nbformat_minor": 0
}
