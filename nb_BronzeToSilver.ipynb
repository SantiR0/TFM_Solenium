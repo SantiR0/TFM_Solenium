{
 "cells": [
  {
   "cell_type": "code",
   "execution_count": 0,
   "metadata": {
    "application/vnd.databricks.v1+cell": {
     "cellMetadata": {
      "byteLimit": 2048000,
      "rowLimit": 10000
     },
     "inputWidgets": {},
     "nuid": "153ddd55-b311-4b7a-af5d-6dbe5101d48c",
     "showTitle": false,
     "title": ""
    }
   },
   "outputs": [],
   "source": [
    "%run \"./nb_utils\""
   ]
  },
  {
   "cell_type": "code",
   "execution_count": 0,
   "metadata": {
    "application/vnd.databricks.v1+cell": {
     "cellMetadata": {
      "byteLimit": 2048000,
      "rowLimit": 10000
     },
     "inputWidgets": {},
     "nuid": "6b2f21eb-964b-4011-a62e-33fd6b925fd6",
     "showTitle": false,
     "title": ""
    }
   },
   "outputs": [],
   "source": [
    "dbutils.widgets.text(\"ingest\", \"default\")\n",
    "ingest = dbutils.widgets.get(\"ingest\")\n",
    "\n",
    "dbutils.widgets.text(\"table_type\", \"event\")\n",
    "table_type = dbutils.widgets.get(\"table_type\")"
   ]
  },
  {
   "cell_type": "code",
   "execution_count": 0,
   "metadata": {
    "application/vnd.databricks.v1+cell": {
     "cellMetadata": {
      "byteLimit": 2048000,
      "rowLimit": 10000
     },
     "inputWidgets": {},
     "nuid": "fc401fbe-38a5-4265-95d7-111c35136fed",
     "showTitle": false,
     "title": ""
    }
   },
   "outputs": [
    {
     "output_type": "stream",
     "name": "stderr",
     "output_type": "stream",
     "text": [
      "2024-09-15 16:15:17,655 - root - INFO - Loading dimension data from source: abfss://bronze@datasparkcourse.dfs.core.windows.net/node \n \n2024-09-15 16:15:43,043 - root - INFO - Data written to silver - delta: abfss://silver@datasparkcourse.dfs.core.windows.net/node\n2024-09-15 16:15:43,824 - root - INFO - Table created: node\n"
     ]
    }
   ],
   "source": [
    "#Ingestion:\n",
    "ingestion_config = MedallionConfig(ingest)\n",
    "ingestion_config.set_logger()\n",
    "ingestion = BronzeIngestionToSilver(ingestion_config)\n",
    "\n",
    "if table_type == 'event':\n",
    "        logging.info(f\"Loading event data from source: {ingestion_config.bronze_path_file} \\n \")\n",
    "        \n",
    "        df = ingestion.load_transform_event_data()\n",
    "        ingestion.write_event_data(df) \n",
    "\n",
    "        logging.info(f\"Data written to silver - delta: {ingestion_config.bronze_path_file} \\n \")\n",
    "\n",
    "elif table_type == 'dimension':\n",
    "        logging.info(f\"Loading dimension data from source: {ingestion_config.bronze_path_file} \\n \")\n",
    "        df = ingestion.load_dimension_data()\n",
    "\n",
    "        ingestion.write_dimension_data(df)\n",
    "        logging.info(f\"Data written to silver - delta: {ingestion_config.silver_path_file}\")\n",
    "else:\n",
    "    raise Exception(\"table_type parameter must be 'event' or'dimension'\")\n",
    "\n",
    "ingestion_config.create_schema_table(path= ingestion_config.silver_path_file, table = ingestion_config.table)\n",
    "logging.info(f\"Table created: {ingestion_config.table}\")\n"
   ]
  }
 ],
 "metadata": {
  "application/vnd.databricks.v1+notebook": {
   "dashboards": [],
   "environmentMetadata": null,
   "language": "python",
   "notebookMetadata": {
    "mostRecentlyExecutedCommandWithImplicitDF": {
     "commandId": 292478654693215,
     "dataframes": [
      "_sqldf"
     ]
    },
    "pythonIndentUnit": 4
   },
   "notebookName": "nb_BronzeToSilver",
   "widgets": {
    "ingest": {
     "currentValue": "node",
     "nuid": "8c00e347-f725-422b-b7c4-565b9bac4fe4",
     "typedWidgetInfo": {
      "autoCreated": false,
      "defaultValue": "default",
      "label": null,
      "name": "ingest",
      "options": {
       "widgetDisplayType": "Text",
       "validationRegex": null
      },
      "parameterDataType": "String"
     },
     "widgetInfo": {
      "widgetType": "text",
      "defaultValue": "default",
      "label": null,
      "name": "ingest",
      "options": {
       "widgetType": "text",
       "autoCreated": null,
       "validationRegex": null
      }
     }
    },
    "table_type": {
     "currentValue": "dimension",
     "nuid": "8abe0942-5aea-4fd6-9aad-6dc763abf5d5",
     "typedWidgetInfo": {
      "autoCreated": false,
      "defaultValue": "event",
      "label": null,
      "name": "table_type",
      "options": {
       "widgetDisplayType": "Text",
       "validationRegex": null
      },
      "parameterDataType": "String"
     },
     "widgetInfo": {
      "widgetType": "text",
      "defaultValue": "event",
      "label": null,
      "name": "table_type",
      "options": {
       "widgetType": "text",
       "autoCreated": null,
       "validationRegex": null
      }
     }
    }
   }
  }
 },
 "nbformat": 4,
 "nbformat_minor": 0
}
